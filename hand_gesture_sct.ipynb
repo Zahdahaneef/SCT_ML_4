{
  "nbformat": 4,
  "nbformat_minor": 0,
  "metadata": {
    "colab": {
      "provenance": [],
      "gpuType": "T4"
    },
    "kernelspec": {
      "name": "python3",
      "display_name": "Python 3"
    },
    "language_info": {
      "name": "python"
    },
    "accelerator": "GPU"
  },
  "cells": [
    {
      "cell_type": "markdown",
      "source": [
        "# **Hand Gesture Recognition Using CNN**:\n",
        "\n",
        "To build a machine learning model that classifies hand gestures from grayscale images using Convolutional Neural Networks (CNNs). These gestures can be used for applications like human-computer interaction, sign language interpretation, and gesture-controlled interfaces.\n",
        "\n",
        "The final system can be extended for real-time gesture detection using webcam input, making it a foundation for more interactive and intelligent systems."
      ],
      "metadata": {
        "id": "VhR-6-FCUK23"
      }
    },
    {
      "cell_type": "code",
      "execution_count": 14,
      "metadata": {
        "colab": {
          "base_uri": "https://localhost:8080/"
        },
        "id": "qCab2qde33P_",
        "outputId": "d0f73e23-a509-4a17-87d9-ab3a0d524c10"
      },
      "outputs": [
        {
          "output_type": "stream",
          "name": "stdout",
          "text": [
            "Requirement already satisfied: opencv-python in /usr/local/lib/python3.11/dist-packages (4.12.0.88)\n",
            "Requirement already satisfied: tensorflow in /usr/local/lib/python3.11/dist-packages (2.18.0)\n",
            "Requirement already satisfied: numpy<2.3.0,>=2 in /usr/local/lib/python3.11/dist-packages (from opencv-python) (2.0.2)\n",
            "Requirement already satisfied: absl-py>=1.0.0 in /usr/local/lib/python3.11/dist-packages (from tensorflow) (1.4.0)\n",
            "Requirement already satisfied: astunparse>=1.6.0 in /usr/local/lib/python3.11/dist-packages (from tensorflow) (1.6.3)\n",
            "Requirement already satisfied: flatbuffers>=24.3.25 in /usr/local/lib/python3.11/dist-packages (from tensorflow) (25.2.10)\n",
            "Requirement already satisfied: gast!=0.5.0,!=0.5.1,!=0.5.2,>=0.2.1 in /usr/local/lib/python3.11/dist-packages (from tensorflow) (0.6.0)\n",
            "Requirement already satisfied: google-pasta>=0.1.1 in /usr/local/lib/python3.11/dist-packages (from tensorflow) (0.2.0)\n",
            "Requirement already satisfied: libclang>=13.0.0 in /usr/local/lib/python3.11/dist-packages (from tensorflow) (18.1.1)\n",
            "Requirement already satisfied: opt-einsum>=2.3.2 in /usr/local/lib/python3.11/dist-packages (from tensorflow) (3.4.0)\n",
            "Requirement already satisfied: packaging in /usr/local/lib/python3.11/dist-packages (from tensorflow) (25.0)\n",
            "Requirement already satisfied: protobuf!=4.21.0,!=4.21.1,!=4.21.2,!=4.21.3,!=4.21.4,!=4.21.5,<6.0.0dev,>=3.20.3 in /usr/local/lib/python3.11/dist-packages (from tensorflow) (5.29.5)\n",
            "Requirement already satisfied: requests<3,>=2.21.0 in /usr/local/lib/python3.11/dist-packages (from tensorflow) (2.32.3)\n",
            "Requirement already satisfied: setuptools in /usr/local/lib/python3.11/dist-packages (from tensorflow) (75.2.0)\n",
            "Requirement already satisfied: six>=1.12.0 in /usr/local/lib/python3.11/dist-packages (from tensorflow) (1.17.0)\n",
            "Requirement already satisfied: termcolor>=1.1.0 in /usr/local/lib/python3.11/dist-packages (from tensorflow) (3.1.0)\n",
            "Requirement already satisfied: typing-extensions>=3.6.6 in /usr/local/lib/python3.11/dist-packages (from tensorflow) (4.14.1)\n",
            "Requirement already satisfied: wrapt>=1.11.0 in /usr/local/lib/python3.11/dist-packages (from tensorflow) (1.17.2)\n",
            "Requirement already satisfied: grpcio<2.0,>=1.24.3 in /usr/local/lib/python3.11/dist-packages (from tensorflow) (1.74.0)\n",
            "Requirement already satisfied: tensorboard<2.19,>=2.18 in /usr/local/lib/python3.11/dist-packages (from tensorflow) (2.18.0)\n",
            "Requirement already satisfied: keras>=3.5.0 in /usr/local/lib/python3.11/dist-packages (from tensorflow) (3.8.0)\n",
            "Requirement already satisfied: h5py>=3.11.0 in /usr/local/lib/python3.11/dist-packages (from tensorflow) (3.14.0)\n",
            "Requirement already satisfied: ml-dtypes<0.5.0,>=0.4.0 in /usr/local/lib/python3.11/dist-packages (from tensorflow) (0.4.1)\n",
            "Requirement already satisfied: tensorflow-io-gcs-filesystem>=0.23.1 in /usr/local/lib/python3.11/dist-packages (from tensorflow) (0.37.1)\n",
            "Requirement already satisfied: wheel<1.0,>=0.23.0 in /usr/local/lib/python3.11/dist-packages (from astunparse>=1.6.0->tensorflow) (0.45.1)\n",
            "Requirement already satisfied: rich in /usr/local/lib/python3.11/dist-packages (from keras>=3.5.0->tensorflow) (13.9.4)\n",
            "Requirement already satisfied: namex in /usr/local/lib/python3.11/dist-packages (from keras>=3.5.0->tensorflow) (0.1.0)\n",
            "Requirement already satisfied: optree in /usr/local/lib/python3.11/dist-packages (from keras>=3.5.0->tensorflow) (0.17.0)\n",
            "Requirement already satisfied: charset-normalizer<4,>=2 in /usr/local/lib/python3.11/dist-packages (from requests<3,>=2.21.0->tensorflow) (3.4.2)\n",
            "Requirement already satisfied: idna<4,>=2.5 in /usr/local/lib/python3.11/dist-packages (from requests<3,>=2.21.0->tensorflow) (3.10)\n",
            "Requirement already satisfied: urllib3<3,>=1.21.1 in /usr/local/lib/python3.11/dist-packages (from requests<3,>=2.21.0->tensorflow) (2.5.0)\n",
            "Requirement already satisfied: certifi>=2017.4.17 in /usr/local/lib/python3.11/dist-packages (from requests<3,>=2.21.0->tensorflow) (2025.7.14)\n",
            "Requirement already satisfied: markdown>=2.6.8 in /usr/local/lib/python3.11/dist-packages (from tensorboard<2.19,>=2.18->tensorflow) (3.8.2)\n",
            "Requirement already satisfied: tensorboard-data-server<0.8.0,>=0.7.0 in /usr/local/lib/python3.11/dist-packages (from tensorboard<2.19,>=2.18->tensorflow) (0.7.2)\n",
            "Requirement already satisfied: werkzeug>=1.0.1 in /usr/local/lib/python3.11/dist-packages (from tensorboard<2.19,>=2.18->tensorflow) (3.1.3)\n",
            "Requirement already satisfied: MarkupSafe>=2.1.1 in /usr/local/lib/python3.11/dist-packages (from werkzeug>=1.0.1->tensorboard<2.19,>=2.18->tensorflow) (3.0.2)\n",
            "Requirement already satisfied: markdown-it-py>=2.2.0 in /usr/local/lib/python3.11/dist-packages (from rich->keras>=3.5.0->tensorflow) (3.0.0)\n",
            "Requirement already satisfied: pygments<3.0.0,>=2.13.0 in /usr/local/lib/python3.11/dist-packages (from rich->keras>=3.5.0->tensorflow) (2.19.2)\n",
            "Requirement already satisfied: mdurl~=0.1 in /usr/local/lib/python3.11/dist-packages (from markdown-it-py>=2.2.0->rich->keras>=3.5.0->tensorflow) (0.1.2)\n"
          ]
        }
      ],
      "source": [
        "!pip install opencv-python tensorflow"
      ]
    },
    {
      "cell_type": "code",
      "source": [
        "from google.colab import files\n",
        "files.upload()"
      ],
      "metadata": {
        "colab": {
          "base_uri": "https://localhost:8080/",
          "height": 90
        },
        "id": "f3aoV4yO83op",
        "outputId": "9a9019b9-b83b-43d4-d0d7-85295aca6ba9"
      },
      "execution_count": 15,
      "outputs": [
        {
          "output_type": "display_data",
          "data": {
            "text/plain": [
              "<IPython.core.display.HTML object>"
            ],
            "text/html": [
              "\n",
              "     <input type=\"file\" id=\"files-7b81de58-dd07-4af8-aa02-93214f625275\" name=\"files[]\" multiple disabled\n",
              "        style=\"border:none\" />\n",
              "     <output id=\"result-7b81de58-dd07-4af8-aa02-93214f625275\">\n",
              "      Upload widget is only available when the cell has been executed in the\n",
              "      current browser session. Please rerun this cell to enable.\n",
              "      </output>\n",
              "      <script>// Copyright 2017 Google LLC\n",
              "//\n",
              "// Licensed under the Apache License, Version 2.0 (the \"License\");\n",
              "// you may not use this file except in compliance with the License.\n",
              "// You may obtain a copy of the License at\n",
              "//\n",
              "//      http://www.apache.org/licenses/LICENSE-2.0\n",
              "//\n",
              "// Unless required by applicable law or agreed to in writing, software\n",
              "// distributed under the License is distributed on an \"AS IS\" BASIS,\n",
              "// WITHOUT WARRANTIES OR CONDITIONS OF ANY KIND, either express or implied.\n",
              "// See the License for the specific language governing permissions and\n",
              "// limitations under the License.\n",
              "\n",
              "/**\n",
              " * @fileoverview Helpers for google.colab Python module.\n",
              " */\n",
              "(function(scope) {\n",
              "function span(text, styleAttributes = {}) {\n",
              "  const element = document.createElement('span');\n",
              "  element.textContent = text;\n",
              "  for (const key of Object.keys(styleAttributes)) {\n",
              "    element.style[key] = styleAttributes[key];\n",
              "  }\n",
              "  return element;\n",
              "}\n",
              "\n",
              "// Max number of bytes which will be uploaded at a time.\n",
              "const MAX_PAYLOAD_SIZE = 100 * 1024;\n",
              "\n",
              "function _uploadFiles(inputId, outputId) {\n",
              "  const steps = uploadFilesStep(inputId, outputId);\n",
              "  const outputElement = document.getElementById(outputId);\n",
              "  // Cache steps on the outputElement to make it available for the next call\n",
              "  // to uploadFilesContinue from Python.\n",
              "  outputElement.steps = steps;\n",
              "\n",
              "  return _uploadFilesContinue(outputId);\n",
              "}\n",
              "\n",
              "// This is roughly an async generator (not supported in the browser yet),\n",
              "// where there are multiple asynchronous steps and the Python side is going\n",
              "// to poll for completion of each step.\n",
              "// This uses a Promise to block the python side on completion of each step,\n",
              "// then passes the result of the previous step as the input to the next step.\n",
              "function _uploadFilesContinue(outputId) {\n",
              "  const outputElement = document.getElementById(outputId);\n",
              "  const steps = outputElement.steps;\n",
              "\n",
              "  const next = steps.next(outputElement.lastPromiseValue);\n",
              "  return Promise.resolve(next.value.promise).then((value) => {\n",
              "    // Cache the last promise value to make it available to the next\n",
              "    // step of the generator.\n",
              "    outputElement.lastPromiseValue = value;\n",
              "    return next.value.response;\n",
              "  });\n",
              "}\n",
              "\n",
              "/**\n",
              " * Generator function which is called between each async step of the upload\n",
              " * process.\n",
              " * @param {string} inputId Element ID of the input file picker element.\n",
              " * @param {string} outputId Element ID of the output display.\n",
              " * @return {!Iterable<!Object>} Iterable of next steps.\n",
              " */\n",
              "function* uploadFilesStep(inputId, outputId) {\n",
              "  const inputElement = document.getElementById(inputId);\n",
              "  inputElement.disabled = false;\n",
              "\n",
              "  const outputElement = document.getElementById(outputId);\n",
              "  outputElement.innerHTML = '';\n",
              "\n",
              "  const pickedPromise = new Promise((resolve) => {\n",
              "    inputElement.addEventListener('change', (e) => {\n",
              "      resolve(e.target.files);\n",
              "    });\n",
              "  });\n",
              "\n",
              "  const cancel = document.createElement('button');\n",
              "  inputElement.parentElement.appendChild(cancel);\n",
              "  cancel.textContent = 'Cancel upload';\n",
              "  const cancelPromise = new Promise((resolve) => {\n",
              "    cancel.onclick = () => {\n",
              "      resolve(null);\n",
              "    };\n",
              "  });\n",
              "\n",
              "  // Wait for the user to pick the files.\n",
              "  const files = yield {\n",
              "    promise: Promise.race([pickedPromise, cancelPromise]),\n",
              "    response: {\n",
              "      action: 'starting',\n",
              "    }\n",
              "  };\n",
              "\n",
              "  cancel.remove();\n",
              "\n",
              "  // Disable the input element since further picks are not allowed.\n",
              "  inputElement.disabled = true;\n",
              "\n",
              "  if (!files) {\n",
              "    return {\n",
              "      response: {\n",
              "        action: 'complete',\n",
              "      }\n",
              "    };\n",
              "  }\n",
              "\n",
              "  for (const file of files) {\n",
              "    const li = document.createElement('li');\n",
              "    li.append(span(file.name, {fontWeight: 'bold'}));\n",
              "    li.append(span(\n",
              "        `(${file.type || 'n/a'}) - ${file.size} bytes, ` +\n",
              "        `last modified: ${\n",
              "            file.lastModifiedDate ? file.lastModifiedDate.toLocaleDateString() :\n",
              "                                    'n/a'} - `));\n",
              "    const percent = span('0% done');\n",
              "    li.appendChild(percent);\n",
              "\n",
              "    outputElement.appendChild(li);\n",
              "\n",
              "    const fileDataPromise = new Promise((resolve) => {\n",
              "      const reader = new FileReader();\n",
              "      reader.onload = (e) => {\n",
              "        resolve(e.target.result);\n",
              "      };\n",
              "      reader.readAsArrayBuffer(file);\n",
              "    });\n",
              "    // Wait for the data to be ready.\n",
              "    let fileData = yield {\n",
              "      promise: fileDataPromise,\n",
              "      response: {\n",
              "        action: 'continue',\n",
              "      }\n",
              "    };\n",
              "\n",
              "    // Use a chunked sending to avoid message size limits. See b/62115660.\n",
              "    let position = 0;\n",
              "    do {\n",
              "      const length = Math.min(fileData.byteLength - position, MAX_PAYLOAD_SIZE);\n",
              "      const chunk = new Uint8Array(fileData, position, length);\n",
              "      position += length;\n",
              "\n",
              "      const base64 = btoa(String.fromCharCode.apply(null, chunk));\n",
              "      yield {\n",
              "        response: {\n",
              "          action: 'append',\n",
              "          file: file.name,\n",
              "          data: base64,\n",
              "        },\n",
              "      };\n",
              "\n",
              "      let percentDone = fileData.byteLength === 0 ?\n",
              "          100 :\n",
              "          Math.round((position / fileData.byteLength) * 100);\n",
              "      percent.textContent = `${percentDone}% done`;\n",
              "\n",
              "    } while (position < fileData.byteLength);\n",
              "  }\n",
              "\n",
              "  // All done.\n",
              "  yield {\n",
              "    response: {\n",
              "      action: 'complete',\n",
              "    }\n",
              "  };\n",
              "}\n",
              "\n",
              "scope.google = scope.google || {};\n",
              "scope.google.colab = scope.google.colab || {};\n",
              "scope.google.colab._files = {\n",
              "  _uploadFiles,\n",
              "  _uploadFilesContinue,\n",
              "};\n",
              "})(self);\n",
              "</script> "
            ]
          },
          "metadata": {}
        },
        {
          "output_type": "stream",
          "name": "stdout",
          "text": [
            "Saving kaggle.json to kaggle (1).json\n"
          ]
        },
        {
          "output_type": "execute_result",
          "data": {
            "text/plain": [
              "{'kaggle (1).json': b'{\"username\":\"zahadanahaneeft\",\"key\":\"cc6c7786f223bb084c5c19aef75e4330\"}'}"
            ]
          },
          "metadata": {},
          "execution_count": 15
        }
      ]
    },
    {
      "cell_type": "code",
      "source": [
        "!mkdir -p ~/.kaggle\n",
        "!cp kaggle.json ~/.kaggle/\n",
        "!chmod 600 ~/.kaggle/kaggle.json\n"
      ],
      "metadata": {
        "id": "X5-HUEbR83za"
      },
      "execution_count": 16,
      "outputs": []
    },
    {
      "cell_type": "code",
      "source": [
        "!kaggle datasets download -d gti-upm/leapgestrecog"
      ],
      "metadata": {
        "colab": {
          "base_uri": "https://localhost:8080/"
        },
        "id": "WF6n9u-r9oK1",
        "outputId": "9dd0583d-1283-48c7-85b4-cced527784c1"
      },
      "execution_count": 17,
      "outputs": [
        {
          "output_type": "stream",
          "name": "stdout",
          "text": [
            "Dataset URL: https://www.kaggle.com/datasets/gti-upm/leapgestrecog\n",
            "License(s): CC-BY-NC-SA-4.0\n",
            "leapgestrecog.zip: Skipping, found more recently modified local copy (use --force to force download)\n"
          ]
        }
      ]
    },
    {
      "cell_type": "code",
      "source": [
        "import zipfile\n",
        "import os\n",
        "\n",
        "zip_path = \"/content/leapgestrecog.zip\"  # replace with your actual file name\n",
        "extract_path = \"/content/hand_gesture_data\"\n",
        "\n",
        "with zipfile.ZipFile(zip_path, 'r') as zip_ref:\n",
        "    zip_ref.extractall(extract_path)"
      ],
      "metadata": {
        "id": "znORgQIy-ACI"
      },
      "execution_count": 18,
      "outputs": []
    },
    {
      "cell_type": "code",
      "source": [
        "import os\n",
        "for root, dirs, files in os.walk(\"/content/hand_gesture_data\"):\n",
        "    for name in files:\n",
        "        if name.endswith(\".png\"):\n",
        "            print(os.path.join(root, name))\n",
        "            break  # print only one example\n"
      ],
      "metadata": {
        "colab": {
          "base_uri": "https://localhost:8080/"
        },
        "id": "5Mjq8qWSSjhj",
        "outputId": "43ce209a-35d4-475b-adbc-3fd2641434fb"
      },
      "execution_count": 19,
      "outputs": [
        {
          "output_type": "stream",
          "name": "stdout",
          "text": [
            "/content/hand_gesture_data/leapgestrecog/leapGestRecog/06/09_c/frame_06_09_0090.png\n",
            "/content/hand_gesture_data/leapgestrecog/leapGestRecog/06/04_fist_moved/frame_06_04_0141.png\n",
            "/content/hand_gesture_data/leapgestrecog/leapGestRecog/06/05_thumb/frame_06_05_0016.png\n",
            "/content/hand_gesture_data/leapgestrecog/leapGestRecog/06/10_down/frame_06_10_0143.png\n",
            "/content/hand_gesture_data/leapgestrecog/leapGestRecog/06/06_index/frame_06_06_0153.png\n",
            "/content/hand_gesture_data/leapgestrecog/leapGestRecog/06/08_palm_moved/frame_06_08_0076.png\n",
            "/content/hand_gesture_data/leapgestrecog/leapGestRecog/06/07_ok/frame_06_07_0003.png\n",
            "/content/hand_gesture_data/leapgestrecog/leapGestRecog/06/03_fist/frame_06_03_0110.png\n",
            "/content/hand_gesture_data/leapgestrecog/leapGestRecog/06/02_l/frame_06_02_0141.png\n",
            "/content/hand_gesture_data/leapgestrecog/leapGestRecog/06/01_palm/frame_06_01_0078.png\n",
            "/content/hand_gesture_data/leapgestrecog/leapGestRecog/03/09_c/frame_03_09_0049.png\n",
            "/content/hand_gesture_data/leapgestrecog/leapGestRecog/03/04_fist_moved/frame_03_04_0014.png\n",
            "/content/hand_gesture_data/leapgestrecog/leapGestRecog/03/05_thumb/frame_03_05_0115.png\n",
            "/content/hand_gesture_data/leapgestrecog/leapGestRecog/03/10_down/frame_03_10_0179.png\n",
            "/content/hand_gesture_data/leapgestrecog/leapGestRecog/03/06_index/frame_03_06_0154.png\n",
            "/content/hand_gesture_data/leapgestrecog/leapGestRecog/03/08_palm_moved/frame_03_08_0090.png\n",
            "/content/hand_gesture_data/leapgestrecog/leapGestRecog/03/07_ok/frame_03_07_0005.png\n",
            "/content/hand_gesture_data/leapgestrecog/leapGestRecog/03/03_fist/frame_03_03_0198.png\n",
            "/content/hand_gesture_data/leapgestrecog/leapGestRecog/03/02_l/frame_03_02_0163.png\n",
            "/content/hand_gesture_data/leapgestrecog/leapGestRecog/03/01_palm/frame_03_01_0132.png\n",
            "/content/hand_gesture_data/leapgestrecog/leapGestRecog/05/09_c/frame_05_09_0179.png\n",
            "/content/hand_gesture_data/leapgestrecog/leapGestRecog/05/04_fist_moved/frame_05_04_0163.png\n",
            "/content/hand_gesture_data/leapgestrecog/leapGestRecog/05/05_thumb/frame_05_05_0078.png\n",
            "/content/hand_gesture_data/leapgestrecog/leapGestRecog/05/10_down/frame_05_10_0167.png\n",
            "/content/hand_gesture_data/leapgestrecog/leapGestRecog/05/06_index/frame_05_06_0190.png\n",
            "/content/hand_gesture_data/leapgestrecog/leapGestRecog/05/08_palm_moved/frame_05_08_0133.png\n",
            "/content/hand_gesture_data/leapgestrecog/leapGestRecog/05/07_ok/frame_05_07_0110.png\n",
            "/content/hand_gesture_data/leapgestrecog/leapGestRecog/05/03_fist/frame_05_03_0092.png\n",
            "/content/hand_gesture_data/leapgestrecog/leapGestRecog/05/02_l/frame_05_02_0137.png\n",
            "/content/hand_gesture_data/leapgestrecog/leapGestRecog/05/01_palm/frame_05_01_0011.png\n",
            "/content/hand_gesture_data/leapgestrecog/leapGestRecog/08/09_c/frame_08_09_0042.png\n",
            "/content/hand_gesture_data/leapgestrecog/leapGestRecog/08/04_fist_moved/frame_08_04_0159.png\n",
            "/content/hand_gesture_data/leapgestrecog/leapGestRecog/08/05_thumb/frame_08_05_0029.png\n",
            "/content/hand_gesture_data/leapgestrecog/leapGestRecog/08/10_down/frame_08_10_0145.png\n",
            "/content/hand_gesture_data/leapgestrecog/leapGestRecog/08/06_index/frame_08_06_0089.png\n",
            "/content/hand_gesture_data/leapgestrecog/leapGestRecog/08/08_palm_moved/frame_08_08_0003.png\n",
            "/content/hand_gesture_data/leapgestrecog/leapGestRecog/08/07_ok/frame_08_07_0181.png\n",
            "/content/hand_gesture_data/leapgestrecog/leapGestRecog/08/03_fist/frame_08_03_0003.png\n",
            "/content/hand_gesture_data/leapgestrecog/leapGestRecog/08/02_l/frame_08_02_0111.png\n",
            "/content/hand_gesture_data/leapgestrecog/leapGestRecog/08/01_palm/frame_08_01_0193.png\n",
            "/content/hand_gesture_data/leapgestrecog/leapGestRecog/00/09_c/frame_00_09_0043.png\n",
            "/content/hand_gesture_data/leapgestrecog/leapGestRecog/00/04_fist_moved/frame_00_04_0151.png\n",
            "/content/hand_gesture_data/leapgestrecog/leapGestRecog/00/05_thumb/frame_00_05_0140.png\n",
            "/content/hand_gesture_data/leapgestrecog/leapGestRecog/00/10_down/frame_00_10_0141.png\n",
            "/content/hand_gesture_data/leapgestrecog/leapGestRecog/00/06_index/frame_00_06_0100.png\n",
            "/content/hand_gesture_data/leapgestrecog/leapGestRecog/00/08_palm_moved/frame_00_08_0093.png\n",
            "/content/hand_gesture_data/leapgestrecog/leapGestRecog/00/07_ok/frame_00_07_0175.png\n",
            "/content/hand_gesture_data/leapgestrecog/leapGestRecog/00/03_fist/frame_00_03_0069.png\n",
            "/content/hand_gesture_data/leapgestrecog/leapGestRecog/00/02_l/frame_00_02_0018.png\n",
            "/content/hand_gesture_data/leapgestrecog/leapGestRecog/00/01_palm/frame_00_01_0172.png\n",
            "/content/hand_gesture_data/leapgestrecog/leapGestRecog/07/09_c/frame_07_09_0111.png\n",
            "/content/hand_gesture_data/leapgestrecog/leapGestRecog/07/04_fist_moved/frame_07_04_0098.png\n",
            "/content/hand_gesture_data/leapgestrecog/leapGestRecog/07/05_thumb/frame_07_05_0097.png\n",
            "/content/hand_gesture_data/leapgestrecog/leapGestRecog/07/10_down/frame_07_10_0192.png\n",
            "/content/hand_gesture_data/leapgestrecog/leapGestRecog/07/06_index/frame_07_06_0098.png\n",
            "/content/hand_gesture_data/leapgestrecog/leapGestRecog/07/08_palm_moved/frame_07_08_0016.png\n",
            "/content/hand_gesture_data/leapgestrecog/leapGestRecog/07/07_ok/frame_07_07_0128.png\n",
            "/content/hand_gesture_data/leapgestrecog/leapGestRecog/07/03_fist/frame_07_03_0147.png\n",
            "/content/hand_gesture_data/leapgestrecog/leapGestRecog/07/02_l/frame_07_02_0159.png\n",
            "/content/hand_gesture_data/leapgestrecog/leapGestRecog/07/01_palm/frame_07_01_0102.png\n",
            "/content/hand_gesture_data/leapgestrecog/leapGestRecog/02/09_c/frame_02_09_0116.png\n",
            "/content/hand_gesture_data/leapgestrecog/leapGestRecog/02/04_fist_moved/frame_02_04_0142.png\n",
            "/content/hand_gesture_data/leapgestrecog/leapGestRecog/02/05_thumb/frame_02_05_0134.png\n",
            "/content/hand_gesture_data/leapgestrecog/leapGestRecog/02/10_down/frame_02_10_0190.png\n",
            "/content/hand_gesture_data/leapgestrecog/leapGestRecog/02/06_index/frame_02_06_0090.png\n",
            "/content/hand_gesture_data/leapgestrecog/leapGestRecog/02/08_palm_moved/frame_02_08_0195.png\n",
            "/content/hand_gesture_data/leapgestrecog/leapGestRecog/02/07_ok/frame_02_07_0059.png\n",
            "/content/hand_gesture_data/leapgestrecog/leapGestRecog/02/03_fist/frame_02_03_0110.png\n",
            "/content/hand_gesture_data/leapgestrecog/leapGestRecog/02/02_l/frame_02_02_0157.png\n",
            "/content/hand_gesture_data/leapgestrecog/leapGestRecog/02/01_palm/frame_02_01_0029.png\n",
            "/content/hand_gesture_data/leapgestrecog/leapGestRecog/09/09_c/frame_09_09_0182.png\n",
            "/content/hand_gesture_data/leapgestrecog/leapGestRecog/09/04_fist_moved/frame_09_04_0176.png\n",
            "/content/hand_gesture_data/leapgestrecog/leapGestRecog/09/05_thumb/frame_09_05_0194.png\n",
            "/content/hand_gesture_data/leapgestrecog/leapGestRecog/09/10_down/frame_09_10_0186.png\n",
            "/content/hand_gesture_data/leapgestrecog/leapGestRecog/09/06_index/frame_09_06_0090.png\n",
            "/content/hand_gesture_data/leapgestrecog/leapGestRecog/09/08_palm_moved/frame_09_08_0079.png\n",
            "/content/hand_gesture_data/leapgestrecog/leapGestRecog/09/07_ok/frame_09_07_0004.png\n",
            "/content/hand_gesture_data/leapgestrecog/leapGestRecog/09/03_fist/frame_09_03_0017.png\n",
            "/content/hand_gesture_data/leapgestrecog/leapGestRecog/09/02_l/frame_09_02_0083.png\n",
            "/content/hand_gesture_data/leapgestrecog/leapGestRecog/09/01_palm/frame_09_01_0054.png\n",
            "/content/hand_gesture_data/leapgestrecog/leapGestRecog/01/09_c/frame_01_09_0141.png\n",
            "/content/hand_gesture_data/leapgestrecog/leapGestRecog/01/04_fist_moved/frame_01_04_0119.png\n",
            "/content/hand_gesture_data/leapgestrecog/leapGestRecog/01/05_thumb/frame_01_05_0170.png\n",
            "/content/hand_gesture_data/leapgestrecog/leapGestRecog/01/10_down/frame_01_10_0163.png\n",
            "/content/hand_gesture_data/leapgestrecog/leapGestRecog/01/06_index/frame_01_06_0193.png\n",
            "/content/hand_gesture_data/leapgestrecog/leapGestRecog/01/08_palm_moved/frame_01_08_0025.png\n",
            "/content/hand_gesture_data/leapgestrecog/leapGestRecog/01/07_ok/frame_01_07_0040.png\n",
            "/content/hand_gesture_data/leapgestrecog/leapGestRecog/01/03_fist/frame_01_03_0194.png\n",
            "/content/hand_gesture_data/leapgestrecog/leapGestRecog/01/02_l/frame_01_02_0031.png\n",
            "/content/hand_gesture_data/leapgestrecog/leapGestRecog/01/01_palm/frame_01_01_0076.png\n",
            "/content/hand_gesture_data/leapgestrecog/leapGestRecog/04/09_c/frame_04_09_0075.png\n",
            "/content/hand_gesture_data/leapgestrecog/leapGestRecog/04/04_fist_moved/frame_04_04_0072.png\n",
            "/content/hand_gesture_data/leapgestrecog/leapGestRecog/04/05_thumb/frame_04_05_0020.png\n",
            "/content/hand_gesture_data/leapgestrecog/leapGestRecog/04/10_down/frame_04_10_0182.png\n",
            "/content/hand_gesture_data/leapgestrecog/leapGestRecog/04/06_index/frame_04_06_0173.png\n",
            "/content/hand_gesture_data/leapgestrecog/leapGestRecog/04/08_palm_moved/frame_04_08_0010.png\n",
            "/content/hand_gesture_data/leapgestrecog/leapGestRecog/04/07_ok/frame_04_07_0011.png\n",
            "/content/hand_gesture_data/leapgestrecog/leapGestRecog/04/03_fist/frame_04_03_0034.png\n",
            "/content/hand_gesture_data/leapgestrecog/leapGestRecog/04/02_l/frame_04_02_0004.png\n",
            "/content/hand_gesture_data/leapgestrecog/leapGestRecog/04/01_palm/frame_04_01_0097.png\n",
            "/content/hand_gesture_data/leapGestRecog/06/09_c/frame_06_09_0090.png\n",
            "/content/hand_gesture_data/leapGestRecog/06/04_fist_moved/frame_06_04_0141.png\n",
            "/content/hand_gesture_data/leapGestRecog/06/05_thumb/frame_06_05_0016.png\n",
            "/content/hand_gesture_data/leapGestRecog/06/10_down/frame_06_10_0143.png\n",
            "/content/hand_gesture_data/leapGestRecog/06/06_index/frame_06_06_0153.png\n",
            "/content/hand_gesture_data/leapGestRecog/06/08_palm_moved/frame_06_08_0076.png\n",
            "/content/hand_gesture_data/leapGestRecog/06/07_ok/frame_06_07_0003.png\n",
            "/content/hand_gesture_data/leapGestRecog/06/03_fist/frame_06_03_0110.png\n",
            "/content/hand_gesture_data/leapGestRecog/06/02_l/frame_06_02_0141.png\n",
            "/content/hand_gesture_data/leapGestRecog/06/01_palm/frame_06_01_0078.png\n",
            "/content/hand_gesture_data/leapGestRecog/03/09_c/frame_03_09_0049.png\n",
            "/content/hand_gesture_data/leapGestRecog/03/04_fist_moved/frame_03_04_0014.png\n",
            "/content/hand_gesture_data/leapGestRecog/03/05_thumb/frame_03_05_0115.png\n",
            "/content/hand_gesture_data/leapGestRecog/03/10_down/frame_03_10_0179.png\n",
            "/content/hand_gesture_data/leapGestRecog/03/06_index/frame_03_06_0154.png\n",
            "/content/hand_gesture_data/leapGestRecog/03/08_palm_moved/frame_03_08_0090.png\n",
            "/content/hand_gesture_data/leapGestRecog/03/07_ok/frame_03_07_0005.png\n",
            "/content/hand_gesture_data/leapGestRecog/03/03_fist/frame_03_03_0198.png\n",
            "/content/hand_gesture_data/leapGestRecog/03/02_l/frame_03_02_0163.png\n",
            "/content/hand_gesture_data/leapGestRecog/03/01_palm/frame_03_01_0132.png\n",
            "/content/hand_gesture_data/leapGestRecog/05/09_c/frame_05_09_0179.png\n",
            "/content/hand_gesture_data/leapGestRecog/05/04_fist_moved/frame_05_04_0163.png\n",
            "/content/hand_gesture_data/leapGestRecog/05/05_thumb/frame_05_05_0078.png\n",
            "/content/hand_gesture_data/leapGestRecog/05/10_down/frame_05_10_0167.png\n",
            "/content/hand_gesture_data/leapGestRecog/05/06_index/frame_05_06_0190.png\n",
            "/content/hand_gesture_data/leapGestRecog/05/08_palm_moved/frame_05_08_0133.png\n",
            "/content/hand_gesture_data/leapGestRecog/05/07_ok/frame_05_07_0110.png\n",
            "/content/hand_gesture_data/leapGestRecog/05/03_fist/frame_05_03_0092.png\n",
            "/content/hand_gesture_data/leapGestRecog/05/02_l/frame_05_02_0137.png\n",
            "/content/hand_gesture_data/leapGestRecog/05/01_palm/frame_05_01_0011.png\n",
            "/content/hand_gesture_data/leapGestRecog/08/09_c/frame_08_09_0042.png\n",
            "/content/hand_gesture_data/leapGestRecog/08/04_fist_moved/frame_08_04_0159.png\n",
            "/content/hand_gesture_data/leapGestRecog/08/05_thumb/frame_08_05_0029.png\n",
            "/content/hand_gesture_data/leapGestRecog/08/10_down/frame_08_10_0145.png\n",
            "/content/hand_gesture_data/leapGestRecog/08/06_index/frame_08_06_0089.png\n",
            "/content/hand_gesture_data/leapGestRecog/08/08_palm_moved/frame_08_08_0003.png\n",
            "/content/hand_gesture_data/leapGestRecog/08/07_ok/frame_08_07_0181.png\n",
            "/content/hand_gesture_data/leapGestRecog/08/03_fist/frame_08_03_0003.png\n",
            "/content/hand_gesture_data/leapGestRecog/08/02_l/frame_08_02_0111.png\n",
            "/content/hand_gesture_data/leapGestRecog/08/01_palm/frame_08_01_0193.png\n",
            "/content/hand_gesture_data/leapGestRecog/00/09_c/frame_00_09_0043.png\n",
            "/content/hand_gesture_data/leapGestRecog/00/04_fist_moved/frame_00_04_0151.png\n",
            "/content/hand_gesture_data/leapGestRecog/00/05_thumb/frame_00_05_0140.png\n",
            "/content/hand_gesture_data/leapGestRecog/00/10_down/frame_00_10_0141.png\n",
            "/content/hand_gesture_data/leapGestRecog/00/06_index/frame_00_06_0100.png\n",
            "/content/hand_gesture_data/leapGestRecog/00/08_palm_moved/frame_00_08_0093.png\n",
            "/content/hand_gesture_data/leapGestRecog/00/07_ok/frame_00_07_0175.png\n",
            "/content/hand_gesture_data/leapGestRecog/00/03_fist/frame_00_03_0069.png\n",
            "/content/hand_gesture_data/leapGestRecog/00/02_l/frame_00_02_0018.png\n",
            "/content/hand_gesture_data/leapGestRecog/00/01_palm/frame_00_01_0172.png\n",
            "/content/hand_gesture_data/leapGestRecog/07/09_c/frame_07_09_0111.png\n",
            "/content/hand_gesture_data/leapGestRecog/07/04_fist_moved/frame_07_04_0098.png\n",
            "/content/hand_gesture_data/leapGestRecog/07/05_thumb/frame_07_05_0097.png\n",
            "/content/hand_gesture_data/leapGestRecog/07/10_down/frame_07_10_0192.png\n",
            "/content/hand_gesture_data/leapGestRecog/07/06_index/frame_07_06_0098.png\n",
            "/content/hand_gesture_data/leapGestRecog/07/08_palm_moved/frame_07_08_0016.png\n",
            "/content/hand_gesture_data/leapGestRecog/07/07_ok/frame_07_07_0128.png\n",
            "/content/hand_gesture_data/leapGestRecog/07/03_fist/frame_07_03_0147.png\n",
            "/content/hand_gesture_data/leapGestRecog/07/02_l/frame_07_02_0159.png\n",
            "/content/hand_gesture_data/leapGestRecog/07/01_palm/frame_07_01_0102.png\n",
            "/content/hand_gesture_data/leapGestRecog/02/09_c/frame_02_09_0116.png\n",
            "/content/hand_gesture_data/leapGestRecog/02/04_fist_moved/frame_02_04_0142.png\n",
            "/content/hand_gesture_data/leapGestRecog/02/05_thumb/frame_02_05_0134.png\n",
            "/content/hand_gesture_data/leapGestRecog/02/10_down/frame_02_10_0190.png\n",
            "/content/hand_gesture_data/leapGestRecog/02/06_index/frame_02_06_0090.png\n",
            "/content/hand_gesture_data/leapGestRecog/02/08_palm_moved/frame_02_08_0195.png\n",
            "/content/hand_gesture_data/leapGestRecog/02/07_ok/frame_02_07_0059.png\n",
            "/content/hand_gesture_data/leapGestRecog/02/03_fist/frame_02_03_0110.png\n",
            "/content/hand_gesture_data/leapGestRecog/02/02_l/frame_02_02_0157.png\n",
            "/content/hand_gesture_data/leapGestRecog/02/01_palm/frame_02_01_0029.png\n",
            "/content/hand_gesture_data/leapGestRecog/09/09_c/frame_09_09_0182.png\n",
            "/content/hand_gesture_data/leapGestRecog/09/04_fist_moved/frame_09_04_0176.png\n",
            "/content/hand_gesture_data/leapGestRecog/09/05_thumb/frame_09_05_0194.png\n",
            "/content/hand_gesture_data/leapGestRecog/09/10_down/frame_09_10_0186.png\n",
            "/content/hand_gesture_data/leapGestRecog/09/06_index/frame_09_06_0090.png\n",
            "/content/hand_gesture_data/leapGestRecog/09/08_palm_moved/frame_09_08_0079.png\n",
            "/content/hand_gesture_data/leapGestRecog/09/07_ok/frame_09_07_0004.png\n",
            "/content/hand_gesture_data/leapGestRecog/09/03_fist/frame_09_03_0017.png\n",
            "/content/hand_gesture_data/leapGestRecog/09/02_l/frame_09_02_0083.png\n",
            "/content/hand_gesture_data/leapGestRecog/09/01_palm/frame_09_01_0054.png\n",
            "/content/hand_gesture_data/leapGestRecog/01/09_c/frame_01_09_0141.png\n",
            "/content/hand_gesture_data/leapGestRecog/01/04_fist_moved/frame_01_04_0119.png\n",
            "/content/hand_gesture_data/leapGestRecog/01/05_thumb/frame_01_05_0170.png\n",
            "/content/hand_gesture_data/leapGestRecog/01/10_down/frame_01_10_0163.png\n",
            "/content/hand_gesture_data/leapGestRecog/01/06_index/frame_01_06_0193.png\n",
            "/content/hand_gesture_data/leapGestRecog/01/08_palm_moved/frame_01_08_0025.png\n",
            "/content/hand_gesture_data/leapGestRecog/01/07_ok/frame_01_07_0040.png\n",
            "/content/hand_gesture_data/leapGestRecog/01/03_fist/frame_01_03_0194.png\n",
            "/content/hand_gesture_data/leapGestRecog/01/02_l/frame_01_02_0031.png\n",
            "/content/hand_gesture_data/leapGestRecog/01/01_palm/frame_01_01_0076.png\n",
            "/content/hand_gesture_data/leapGestRecog/04/09_c/frame_04_09_0075.png\n",
            "/content/hand_gesture_data/leapGestRecog/04/04_fist_moved/frame_04_04_0072.png\n",
            "/content/hand_gesture_data/leapGestRecog/04/05_thumb/frame_04_05_0020.png\n",
            "/content/hand_gesture_data/leapGestRecog/04/10_down/frame_04_10_0182.png\n",
            "/content/hand_gesture_data/leapGestRecog/04/06_index/frame_04_06_0173.png\n",
            "/content/hand_gesture_data/leapGestRecog/04/08_palm_moved/frame_04_08_0010.png\n",
            "/content/hand_gesture_data/leapGestRecog/04/07_ok/frame_04_07_0011.png\n",
            "/content/hand_gesture_data/leapGestRecog/04/03_fist/frame_04_03_0034.png\n",
            "/content/hand_gesture_data/leapGestRecog/04/02_l/frame_04_02_0004.png\n",
            "/content/hand_gesture_data/leapGestRecog/04/01_palm/frame_04_01_0097.png\n"
          ]
        }
      ]
    },
    {
      "cell_type": "code",
      "source": [
        "import cv2\n",
        "import os\n",
        "import numpy as np\n",
        "from sklearn.model_selection import train_test_split\n",
        "\n",
        "data_dir = \"/content/hand_gesture_data/leapGestRecog\"\n",
        "image_size =(64,64)"
      ],
      "metadata": {
        "id": "mxuukBpD-vju"
      },
      "execution_count": 20,
      "outputs": []
    },
    {
      "cell_type": "code",
      "source": [
        "X=[]\n",
        "y=[]\n",
        "\n",
        "gesture_names = {}\n",
        "label_number=0\n",
        "\n",
        "# Looping through folders\n",
        "\n",
        "for folder_name in sorted(os.listdir(data_dir)):\n",
        "    folder_path = os.path.join(data_dir, folder_name)\n",
        "    if not os.path.isdir(folder_path):\n",
        "        continue\n",
        "\n",
        "    for gesture_folder in sorted(os.listdir(folder_path)):\n",
        "        gesture_folder_path = os.path.join(folder_path, gesture_folder)\n",
        "        if not os.path.isdir(gesture_folder_path):\n",
        "            continue\n",
        "\n",
        "        gesture = gesture_folder[3:]\n",
        "        if gesture not in gesture_names:\n",
        "           gesture_names[gesture]= label_number\n",
        "           label_number += 1\n",
        "\n",
        "        label= gesture_names[gesture]\n",
        "\n",
        "\n",
        "        # Looping through all images in gesture files.\n",
        "        for image_file in os.listdir(gesture_folder_path):\n",
        "          image_path = os.path.join(gesture_folder_path, image_file)\n",
        "\n",
        "          # Read and process image\n",
        "          image = cv2.imread(image_path,cv2.IMREAD_GRAYSCALE)\n",
        "          if image is None:\n",
        "             continue\n",
        "          image = cv2.resize(image, image_size)\n",
        "\n",
        "          X.append(image)\n",
        "          y.append(label)\n",
        "\n",
        "# Convert to numpy arrays\n",
        "\n",
        "X=np.array(X)\n",
        "y=np.array(y)\n",
        "\n",
        "# Normalize (pixel values between 0 and 1) and reshape\n",
        "X = X / 255.0\n",
        "X = X.reshape(-1, 64, 64, 1)\n",
        "\n",
        "# Split into train and test sets\n",
        "X_train, X_test, y_train, y_test = train_test_split(\n",
        "    X, y, test_size=0.2, random_state=42, stratify=y\n",
        ")\n",
        "\n",
        "print(\"Images loaded:\", len(X))\n",
        "print(\"Gestures found:\", gesture_names)\n",
        "print(\"X_train shape:\", X_train.shape)"
      ],
      "metadata": {
        "colab": {
          "base_uri": "https://localhost:8080/"
        },
        "id": "ygc4UVW0_c69",
        "outputId": "f62aa3d4-38d0-4b01-b664-a301f127bfdc"
      },
      "execution_count": 21,
      "outputs": [
        {
          "output_type": "stream",
          "name": "stdout",
          "text": [
            "Images loaded: 20000\n",
            "Gestures found: {'palm': 0, 'l': 1, 'fist': 2, 'fist_moved': 3, 'thumb': 4, 'index': 5, 'ok': 6, 'palm_moved': 7, 'c': 8, 'down': 9}\n",
            "X_train shape: (16000, 64, 64, 1)\n"
          ]
        }
      ]
    },
    {
      "cell_type": "code",
      "source": [
        "import matplotlib.pyplot as plt\n",
        "\n",
        "plt.figure(figsize=(10, 10))\n",
        "for i in range(9):\n",
        "    index= np.random.randint(0, len(X_train))\n",
        "    image = X_train[index].reshape(64, 64)\n",
        "    label = y_train[index]\n",
        "\n",
        "    # finding gesture name from label\n",
        "    for gesture, label_value in gesture_names.items():\n",
        "        if label_value == label:\n",
        "            gesture_name = gesture\n",
        "            break\n",
        "\n",
        "    plt.subplot(3, 3, i + 1)\n",
        "    plt.imshow(image, cmap='gray')\n",
        "    plt.title(gesture_name)\n",
        "    plt.axis('off')\n",
        "plt.show()"
      ],
      "metadata": {
        "colab": {
          "base_uri": "https://localhost:8080/",
          "height": 829
        },
        "id": "UwtNZOuEBWnp",
        "outputId": "cb6e27d4-e690-48c6-c4fb-d27129c8bd4e"
      },
      "execution_count": 22,
      "outputs": [
        {
          "output_type": "display_data",
          "data": {
            "text/plain": [
              "<Figure size 1000x1000 with 9 Axes>"
            ],
            "image/png": "[encoded data removed]"
          },
          "metadata": {}
        }
      ]
    },
    {
      "cell_type": "code",
      "source": [
        "import tensorflow as tf\n",
        "from tensorflow.keras.models import Sequential\n",
        "from tensorflow.keras.layers import Conv2D, MaxPooling2D, Flatten, Dense, Dropout\n",
        "\n",
        "# Creating the model\n",
        "model = Sequential([\n",
        "    Conv2D(32, (3, 3), activation='relu', input_shape=(64, 64, 1)),\n",
        "    MaxPooling2D(2, 2),\n",
        "    Conv2D(64, (3, 3), activation='relu'),\n",
        "    MaxPooling2D(2, 2),\n",
        "    Flatten(),\n",
        "    Dense(128, activation='relu'),\n",
        "    Dropout(0.5),\n",
        "    Dense(len(gesture_names), activation='softmax')\n",
        "    ])\n",
        "\n",
        "# Compiling the model\n",
        "model.compile(optimizer='adam',\n",
        "              loss='sparse_categorical_crossentropy',\n",
        "              metrics=['accuracy'])\n",
        "\n",
        "# Training the model\n",
        "history = model.fit(X_train, y_train, epochs=10, validation_data=(X_test, y_test))\n",
        "\n",
        "# evaluate\n",
        "test_loss, test_acc = model.evaluate(X_test, y_test)\n",
        "print(\"Test accuracy:\", test_acc)"
      ],
      "metadata": {
        "colab": {
          "base_uri": "https://localhost:8080/"
        },
        "id": "VSro3IzBBq7Q",
        "outputId": "d13a2501-9074-4756-e65f-be90a2f1885e"
      },
      "execution_count": 23,
      "outputs": [
        {
          "output_type": "stream",
          "name": "stderr",
          "text": [
            "/usr/local/lib/python3.11/dist-packages/keras/src/layers/convolutional/base_conv.py:107: UserWarning: Do not pass an `input_shape`/`input_dim` argument to a layer. When using Sequential models, prefer using an `Input(shape)` object as the first layer in the model instead.\n",
            "  super().__init__(activity_regularizer=activity_regularizer, **kwargs)\n"
          ]
        },
        {
          "output_type": "stream",
          "name": "stdout",
          "text": [
            "Epoch 1/10\n",
            "\u001b[1m500/500\u001b[0m \u001b[32m━━━━━━━━━━━━━━━━━━━━\u001b[0m\u001b[37m\u001b[0m \u001b[1m6s\u001b[0m 8ms/step - accuracy: 0.6547 - loss: 0.9848 - val_accuracy: 0.9952 - val_loss: 0.0180\n",
            "Epoch 2/10\n",
            "\u001b[1m500/500\u001b[0m \u001b[32m━━━━━━━━━━━━━━━━━━━━\u001b[0m\u001b[37m\u001b[0m \u001b[1m8s\u001b[0m 6ms/step - accuracy: 0.9776 - loss: 0.0702 - val_accuracy: 0.9987 - val_loss: 0.0086\n",
            "Epoch 3/10\n",
            "\u001b[1m500/500\u001b[0m \u001b[32m━━━━━━━━━━━━━━━━━━━━\u001b[0m\u001b[37m\u001b[0m \u001b[1m3s\u001b[0m 6ms/step - accuracy: 0.9864 - loss: 0.0416 - val_accuracy: 0.9992 - val_loss: 0.0046\n",
            "Epoch 4/10\n",
            "\u001b[1m500/500\u001b[0m \u001b[32m━━━━━━━━━━━━━━━━━━━━\u001b[0m\u001b[37m\u001b[0m \u001b[1m5s\u001b[0m 6ms/step - accuracy: 0.9911 - loss: 0.0284 - val_accuracy: 0.9992 - val_loss: 0.0032\n",
            "Epoch 5/10\n",
            "\u001b[1m500/500\u001b[0m \u001b[32m━━━━━━━━━━━━━━━━━━━━\u001b[0m\u001b[37m\u001b[0m \u001b[1m3s\u001b[0m 5ms/step - accuracy: 0.9915 - loss: 0.0240 - val_accuracy: 0.9998 - val_loss: 0.0019\n",
            "Epoch 6/10\n",
            "\u001b[1m500/500\u001b[0m \u001b[32m━━━━━━━━━━━━━━━━━━━━\u001b[0m\u001b[37m\u001b[0m \u001b[1m6s\u001b[0m 7ms/step - accuracy: 0.9934 - loss: 0.0209 - val_accuracy: 0.9995 - val_loss: 0.0028\n",
            "Epoch 7/10\n",
            "\u001b[1m500/500\u001b[0m \u001b[32m━━━━━━━━━━━━━━━━━━━━\u001b[0m\u001b[37m\u001b[0m \u001b[1m5s\u001b[0m 5ms/step - accuracy: 0.9930 - loss: 0.0224 - val_accuracy: 0.9995 - val_loss: 0.0027\n",
            "Epoch 8/10\n",
            "\u001b[1m500/500\u001b[0m \u001b[32m━━━━━━━━━━━━━━━━━━━━\u001b[0m\u001b[37m\u001b[0m \u001b[1m6s\u001b[0m 6ms/step - accuracy: 0.9943 - loss: 0.0166 - val_accuracy: 0.9995 - val_loss: 0.0030\n",
            "Epoch 9/10\n",
            "\u001b[1m500/500\u001b[0m \u001b[32m━━━━━━━━━━━━━━━━━━━━\u001b[0m\u001b[37m\u001b[0m \u001b[1m3s\u001b[0m 7ms/step - accuracy: 0.9951 - loss: 0.0143 - val_accuracy: 0.9995 - val_loss: 0.0025\n",
            "Epoch 10/10\n",
            "\u001b[1m500/500\u001b[0m \u001b[32m━━━━━━━━━━━━━━━━━━━━\u001b[0m\u001b[37m\u001b[0m \u001b[1m5s\u001b[0m 6ms/step - accuracy: 0.9965 - loss: 0.0095 - val_accuracy: 0.9998 - val_loss: 7.3936e-04\n",
            "\u001b[1m125/125\u001b[0m \u001b[32m━━━━━━━━━━━━━━━━━━━━\u001b[0m\u001b[37m\u001b[0m \u001b[1m0s\u001b[0m 3ms/step - accuracy: 0.9999 - loss: 3.4426e-04\n",
            "Test accuracy: 0.999750018119812\n"
          ]
        }
      ]
    },
    {
      "cell_type": "code",
      "source": [
        "model.save(\"hand_gesture_model.h5\")"
      ],
      "metadata": {
        "colab": {
          "base_uri": "https://localhost:8080/"
        },
        "id": "Ly09XvLyGo-q",
        "outputId": "a202351e-9186-4760-b831-55c8d8e3bca5"
      },
      "execution_count": 24,
      "outputs": [
        {
          "output_type": "stream",
          "name": "stderr",
          "text": [
            "WARNING:absl:You are saving your model as an HDF5 file via `model.save()` or `keras.saving.save_model(model)`. This file format is considered legacy. We recommend using instead the native Keras format, e.g. `model.save('my_model.keras')` or `keras.saving.save_model(model, 'my_model.keras')`. \n"
          ]
        }
      ]
    },
    {
      "cell_type": "code",
      "source": [
        "import numpy as np\n",
        "import random\n",
        "import matplotlib.pyplot as plt\n",
        "\n",
        "\n",
        "gesture_names = {\n",
        "    0: '01_palm',\n",
        "    1: '02_l',\n",
        "    2: '03_fist',\n",
        "    3: '04_fist_moved',\n",
        "    4: '05_thumb',\n",
        "    5: '06_index',\n",
        "    6: '07_ok',\n",
        "    7: '08_palm_moved',\n",
        "    8: '09_c',\n",
        "    9: '10_down'\n",
        "}"
      ],
      "metadata": {
        "id": "E7wz6wW0RLXb"
      },
      "execution_count": 25,
      "outputs": []
    },
    {
      "cell_type": "code",
      "source": [
        "random_index = random.randint(0, len(X_test) - 1)\n",
        "\n",
        "\n",
        "random_image = X_test[random_index]\n",
        "true_label = np.argmax(y_test[random_index])\n",
        "\n",
        "\n",
        "input_image = np.reshape(random_image, (1, 64, 64, 1))\n",
        "\n",
        "\n",
        "prediction = model.predict(input_image)\n",
        "predicted_label = np.argmax(prediction)\n",
        "\n",
        "\n",
        "plt.imshow(random_image.squeeze(), cmap='gray')\n",
        "plt.title(f\"True: {gesture_names[true_label]}, Predicted: {gesture_names[predicted_label]}\")\n",
        "plt.axis('off')\n",
        "plt.show()\n"
      ],
      "metadata": {
        "colab": {
          "base_uri": "https://localhost:8080/",
          "height": 445
        },
        "id": "CaPPJVnkRVdQ",
        "outputId": "40d0b075-b242-48f8-ec6f-ba931fea0664"
      },
      "execution_count": 33,
      "outputs": [
        {
          "output_type": "stream",
          "name": "stdout",
          "text": [
            "\u001b[1m1/1\u001b[0m \u001b[32m━━━━━━━━━━━━━━━━━━━━\u001b[0m\u001b[37m\u001b[0m \u001b[1m0s\u001b[0m 31ms/step\n"
          ]
        },
        {
          "output_type": "display_data",
          "data": {
            "text/plain": [
              "<Figure size 640x480 with 1 Axes>"
            ],
            "image/png": "[encoded data removed]"
          },
          "metadata": {}
        }
      ]
    },
    {
      "cell_type": "markdown",
      "source": [
        "# **Conclusion**:\n",
        "This project successfully demonstrates the application of Convolutional Neural Networks (CNNs) for recognizing static hand gestures from grayscale images with high accuracy. By leveraging the LEAP GestRecog dataset and a well-structured CNN model, the system achieved near-perfect test accuracy (100%), proving its effectiveness in distinguishing between 10 distinct hand gesture classes.\n",
        "\n",
        "**Future improvements could include** :\n",
        "\n",
        "* Real-time gesture recognition using webcam input\n",
        "\n",
        "* Dynamic gesture detection using video frames or temporal models (RNNs/LSTMs)\n",
        "\n",
        "* Deployment on mobile or embedded systems\n",
        "\n",
        "\n",
        "In conclusion, the project demonstrates that deep learning offers a powerful and scalable approach to hand gesture recognition, opening doors for applications in human-computer interaction, sign language translation, and gesture-based controls."
      ],
      "metadata": {
        "id": "N4o5WgiEU08R"
      }
    },
    {
      "cell_type": "markdown",
      "source": [],
      "metadata": {
        "id": "oann8ixGVMaV"
      }
    },
    {
      "cell_type": "code",
      "source": [],
      "metadata": {
        "id": "zN4TU18PT6o3"
      },
      "execution_count": null,
      "outputs": []
    }
  ]
}